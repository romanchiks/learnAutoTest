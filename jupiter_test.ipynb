{
 "cells": [
  {
   "cell_type": "code",
   "execution_count": 16,
   "metadata": {},
   "outputs": [
    {
     "name": "stdout",
     "output_type": "stream",
     "text": [
      "-0.5733571748155426\n"
     ]
    }
   ],
   "source": [
    "sin = math.sin(x)\n",
    "print(sin)"
   ]
  },
  {
   "cell_type": "code",
   "execution_count": 18,
   "metadata": {},
   "outputs": [
    {
     "ename": "NoSuchElementException",
     "evalue": "Message: no such element: Unable to locate element: {\"method\":\"css selector\",\"selector\":\"[id=\"button\"]\"}\n  (Session info: chrome=105.0.5195.127)\nStacktrace:\nBacktrace:\n\tOrdinal0 [0x0063DF13+2219795]\n\tOrdinal0 [0x005D2841+1779777]\n\tOrdinal0 [0x004E423D+803389]\n\tOrdinal0 [0x00513025+995365]\n\tOrdinal0 [0x005131EB+995819]\n\tOrdinal0 [0x00540F52+1183570]\n\tOrdinal0 [0x0052E844+1108036]\n\tOrdinal0 [0x0053F192+1175954]\n\tOrdinal0 [0x0052E616+1107478]\n\tOrdinal0 [0x00507F89+950153]\n\tOrdinal0 [0x00508F56+954198]\n\tGetHandleVerifier [0x00932CB2+3040210]\n\tGetHandleVerifier [0x00922BB4+2974420]\n\tGetHandleVerifier [0x006D6A0A+565546]\n\tGetHandleVerifier [0x006D5680+560544]\n\tOrdinal0 [0x005D9A5C+1808988]\n\tOrdinal0 [0x005DE3A8+1827752]\n\tOrdinal0 [0x005DE495+1827989]\n\tOrdinal0 [0x005E80A4+1867940]\n\tBaseThreadInitThunk [0x76896739+25]\n\tRtlGetFullPathName_UEx [0x77428E7F+1215]\n\tRtlGetFullPathName_UEx [0x77428E4D+1165]\n",
     "output_type": "error",
     "traceback": [
      "\u001b[1;31m---------------------------------------------------------------------------\u001b[0m",
      "\u001b[1;31mNoSuchElementException\u001b[0m                    Traceback (most recent call last)",
      "Cell \u001b[1;32mIn [18], line 12\u001b[0m\n\u001b[0;32m      9\u001b[0m     browser\u001b[38;5;241m.\u001b[39mimplicitly_wait(\u001b[38;5;241m5\u001b[39m)\n\u001b[0;32m     10\u001b[0m     browser\u001b[38;5;241m.\u001b[39mget(link)\n\u001b[1;32m---> 12\u001b[0m     x \u001b[38;5;241m=\u001b[39m \u001b[43mbrowser\u001b[49m\u001b[38;5;241;43m.\u001b[39;49m\u001b[43mfind_element\u001b[49m\u001b[43m(\u001b[49m\u001b[43mBy\u001b[49m\u001b[38;5;241;43m.\u001b[39;49m\u001b[43mID\u001b[49m\u001b[43m,\u001b[49m\u001b[43m \u001b[49m\u001b[38;5;124;43m\"\u001b[39;49m\u001b[38;5;124;43mbutton\u001b[39;49m\u001b[38;5;124;43m\"\u001b[39;49m\u001b[43m)\u001b[49m\n\u001b[0;32m     14\u001b[0m \u001b[38;5;28;01mfinally\u001b[39;00m:\n\u001b[0;32m     15\u001b[0m     time\u001b[38;5;241m.\u001b[39msleep(\u001b[38;5;241m5\u001b[39m)\n",
      "File \u001b[1;32mc:\\Users\\r.trokin\\AppData\\Local\\Programs\\Python\\Python310\\lib\\site-packages\\selenium\\webdriver\\remote\\webdriver.py:855\u001b[0m, in \u001b[0;36mWebDriver.find_element\u001b[1;34m(self, by, value)\u001b[0m\n\u001b[0;32m    852\u001b[0m     by \u001b[39m=\u001b[39m By\u001b[39m.\u001b[39mCSS_SELECTOR\n\u001b[0;32m    853\u001b[0m     value \u001b[39m=\u001b[39m \u001b[39m'\u001b[39m\u001b[39m[name=\u001b[39m\u001b[39m\"\u001b[39m\u001b[39m%s\u001b[39;00m\u001b[39m\"\u001b[39m\u001b[39m]\u001b[39m\u001b[39m'\u001b[39m \u001b[39m%\u001b[39m value\n\u001b[1;32m--> 855\u001b[0m \u001b[39mreturn\u001b[39;00m \u001b[39mself\u001b[39;49m\u001b[39m.\u001b[39;49mexecute(Command\u001b[39m.\u001b[39;49mFIND_ELEMENT, {\n\u001b[0;32m    856\u001b[0m     \u001b[39m'\u001b[39;49m\u001b[39musing\u001b[39;49m\u001b[39m'\u001b[39;49m: by,\n\u001b[0;32m    857\u001b[0m     \u001b[39m'\u001b[39;49m\u001b[39mvalue\u001b[39;49m\u001b[39m'\u001b[39;49m: value})[\u001b[39m'\u001b[39m\u001b[39mvalue\u001b[39m\u001b[39m'\u001b[39m]\n",
      "File \u001b[1;32mc:\\Users\\r.trokin\\AppData\\Local\\Programs\\Python\\Python310\\lib\\site-packages\\selenium\\webdriver\\remote\\webdriver.py:428\u001b[0m, in \u001b[0;36mWebDriver.execute\u001b[1;34m(self, driver_command, params)\u001b[0m\n\u001b[0;32m    426\u001b[0m response \u001b[39m=\u001b[39m \u001b[39mself\u001b[39m\u001b[39m.\u001b[39mcommand_executor\u001b[39m.\u001b[39mexecute(driver_command, params)\n\u001b[0;32m    427\u001b[0m \u001b[39mif\u001b[39;00m response:\n\u001b[1;32m--> 428\u001b[0m     \u001b[39mself\u001b[39;49m\u001b[39m.\u001b[39;49merror_handler\u001b[39m.\u001b[39;49mcheck_response(response)\n\u001b[0;32m    429\u001b[0m     response[\u001b[39m'\u001b[39m\u001b[39mvalue\u001b[39m\u001b[39m'\u001b[39m] \u001b[39m=\u001b[39m \u001b[39mself\u001b[39m\u001b[39m.\u001b[39m_unwrap_value(\n\u001b[0;32m    430\u001b[0m         response\u001b[39m.\u001b[39mget(\u001b[39m'\u001b[39m\u001b[39mvalue\u001b[39m\u001b[39m'\u001b[39m, \u001b[39mNone\u001b[39;00m))\n\u001b[0;32m    431\u001b[0m     \u001b[39mreturn\u001b[39;00m response\n",
      "File \u001b[1;32mc:\\Users\\r.trokin\\AppData\\Local\\Programs\\Python\\Python310\\lib\\site-packages\\selenium\\webdriver\\remote\\errorhandler.py:243\u001b[0m, in \u001b[0;36mErrorHandler.check_response\u001b[1;34m(self, response)\u001b[0m\n\u001b[0;32m    241\u001b[0m         alert_text \u001b[39m=\u001b[39m value[\u001b[39m'\u001b[39m\u001b[39malert\u001b[39m\u001b[39m'\u001b[39m]\u001b[39m.\u001b[39mget(\u001b[39m'\u001b[39m\u001b[39mtext\u001b[39m\u001b[39m'\u001b[39m)\n\u001b[0;32m    242\u001b[0m     \u001b[39mraise\u001b[39;00m exception_class(message, screen, stacktrace, alert_text)  \u001b[39m# type: ignore[call-arg]  # mypy is not smart enough here\u001b[39;00m\n\u001b[1;32m--> 243\u001b[0m \u001b[39mraise\u001b[39;00m exception_class(message, screen, stacktrace)\n",
      "\u001b[1;31mNoSuchElementException\u001b[0m: Message: no such element: Unable to locate element: {\"method\":\"css selector\",\"selector\":\"[id=\"button\"]\"}\n  (Session info: chrome=105.0.5195.127)\nStacktrace:\nBacktrace:\n\tOrdinal0 [0x0063DF13+2219795]\n\tOrdinal0 [0x005D2841+1779777]\n\tOrdinal0 [0x004E423D+803389]\n\tOrdinal0 [0x00513025+995365]\n\tOrdinal0 [0x005131EB+995819]\n\tOrdinal0 [0x00540F52+1183570]\n\tOrdinal0 [0x0052E844+1108036]\n\tOrdinal0 [0x0053F192+1175954]\n\tOrdinal0 [0x0052E616+1107478]\n\tOrdinal0 [0x00507F89+950153]\n\tOrdinal0 [0x00508F56+954198]\n\tGetHandleVerifier [0x00932CB2+3040210]\n\tGetHandleVerifier [0x00922BB4+2974420]\n\tGetHandleVerifier [0x006D6A0A+565546]\n\tGetHandleVerifier [0x006D5680+560544]\n\tOrdinal0 [0x005D9A5C+1808988]\n\tOrdinal0 [0x005DE3A8+1827752]\n\tOrdinal0 [0x005DE495+1827989]\n\tOrdinal0 [0x005E80A4+1867940]\n\tBaseThreadInitThunk [0x76896739+25]\n\tRtlGetFullPathName_UEx [0x77428E7F+1215]\n\tRtlGetFullPathName_UEx [0x77428E4D+1165]\n"
     ]
    }
   ],
   "source": [
    "from selenium import webdriver\n",
    "from selenium.webdriver.common.by import By\n",
    "import time\n",
    "\n",
    "link = \"http://suninjuly.github.io/cats.html\"\n",
    "\n",
    "try:\n",
    "    browser = webdriver.Chrome()\n",
    "    browser.implicitly_wait(5)\n",
    "    browser.get(link)\n",
    "    \n",
    "    x = browser.find_element(By.ID, \"button\")\n",
    "\n",
    "finally:\n",
    "    time.sleep(5)\n",
    "    browser.quit()"
   ]
  }
 ],
 "metadata": {
  "kernelspec": {
   "display_name": "Python 3.10.7 64-bit",
   "language": "python",
   "name": "python3"
  },
  "language_info": {
   "codemirror_mode": {
    "name": "ipython",
    "version": 3
   },
   "file_extension": ".py",
   "mimetype": "text/x-python",
   "name": "python",
   "nbconvert_exporter": "python",
   "pygments_lexer": "ipython3",
   "version": "3.10.7"
  },
  "orig_nbformat": 4,
  "vscode": {
   "interpreter": {
    "hash": "2406c8f7ed4eb12c6ae7d78f23362d7e0fdfcb4f56bf08f4ef7e84c14f8fecd3"
   }
  }
 },
 "nbformat": 4,
 "nbformat_minor": 2
}
